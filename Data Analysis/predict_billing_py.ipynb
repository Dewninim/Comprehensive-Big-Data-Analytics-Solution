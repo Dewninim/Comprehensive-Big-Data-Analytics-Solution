{
  "nbformat": 4,
  "nbformat_minor": 0,
  "metadata": {
    "colab": {
      "provenance": []
    },
    "kernelspec": {
      "name": "python3",
      "display_name": "Python 3"
    },
    "language_info": {
      "name": "python"
    }
  },
  "cells": [
    {
      "cell_type": "code",
      "execution_count": 1,
      "metadata": {
        "colab": {
          "base_uri": "https://localhost:8080/"
        },
        "id": "qVrXPDS3H82l",
        "outputId": "50be0b13-b290-416b-98b5-cfc5ffe894c2"
      },
      "outputs": [
        {
          "output_type": "stream",
          "name": "stdout",
          "text": [
            "✅ Model training completed! Saved: model.pkl, preprocessor.pkl\n"
          ]
        }
      ],
      "source": [
        "import pandas as pd\n",
        "from sklearn.model_selection import train_test_split\n",
        "from sklearn.linear_model import LinearRegression\n",
        "from sklearn.preprocessing import OneHotEncoder\n",
        "from sklearn.compose import ColumnTransformer\n",
        "import pickle\n",
        "\n",
        "# Load dataset\n",
        "df = pd.read_csv(\"processed_healthcare_data.csv\")\n",
        "\n",
        "# Preprocessing: Handle categorical features (e.g., medical_condition)\n",
        "# One-hot encode categorical variables\n",
        "preprocessor = ColumnTransformer(\n",
        "    transformers=[\n",
        "        ('cat', OneHotEncoder(), ['medical_condition'])\n",
        "    ],\n",
        "    remainder='passthrough'\n",
        ")\n",
        "\n",
        "# Define features and target\n",
        "X = df[['age', 'medical_condition']]  # Features (age + categorical)\n",
        "y = df['billing_amount']  # Target\n",
        "\n",
        "# Split dataset\n",
        "X_train, X_test, y_train, y_test = train_test_split(X, y, test_size=0.2, random_state=42)\n",
        "\n",
        "# Apply preprocessing to training data\n",
        "X_train_transformed = preprocessor.fit_transform(X_train)\n",
        "\n",
        "# Train the model\n",
        "model = LinearRegression()\n",
        "model.fit(X_train_transformed, y_train)\n",
        "\n",
        "# Save the model and preprocessor\n",
        "pickle.dump(model, open(\"model.pkl\", \"wb\"))\n",
        "pickle.dump(preprocessor, open(\"preprocessor.pkl\", \"wb\"))\n",
        "\n",
        "print(\"✅ Model training completed! Saved: model.pkl, preprocessor.pkl\")"
      ]
    },
    {
      "cell_type": "code",
      "source": [
        "import pickle\n",
        "import pandas as pd\n",
        "\n",
        "# Load the model and preprocessor\n",
        "model = pickle.load(open(\"model.pkl\", \"rb\"))\n",
        "preprocessor = pickle.load(open(\"preprocessor.pkl\", \"rb\"))\n",
        "\n",
        "# Example: New data for prediction\n",
        "new_data = pd.DataFrame({'age': [45], 'medical_condition': ['diabetes']})\n",
        "\n",
        "# Ensure correct capitalization to match training data\n",
        "new_data['medical_condition'] = new_data['medical_condition'].str.capitalize()\n",
        "\n",
        "# Transform new data using the preprocessor\n",
        "new_data_transformed = preprocessor.transform(new_data)\n",
        "\n",
        "# Make prediction\n",
        "predicted_billing = model.predict(new_data_transformed)\n",
        "print(\"Predicted Billing Amount:\", predicted_billing[0])\n"
      ],
      "metadata": {
        "colab": {
          "base_uri": "https://localhost:8080/"
        },
        "id": "Xj3ExPg9JbZk",
        "outputId": "cfcd2292-d0c0-4fa9-8810-1b3dd4ed51e2"
      },
      "execution_count": 3,
      "outputs": [
        {
          "output_type": "stream",
          "name": "stdout",
          "text": [
            "Predicted Billing Amount: 25354.806866120183\n"
          ]
        }
      ]
    }
  ]
}